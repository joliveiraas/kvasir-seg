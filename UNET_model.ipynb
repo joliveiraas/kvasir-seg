{
  "nbformat": 4,
  "nbformat_minor": 0,
  "metadata": {
    "colab": {
      "provenance": [],
      "gpuType": "T4",
      "authorship_tag": "ABX9TyMOE8naZJr7WsyVmo8dgf8n",
      "include_colab_link": true
    },
    "kernelspec": {
      "name": "python3",
      "display_name": "Python 3"
    },
    "language_info": {
      "name": "python"
    },
    "widgets": {
      "application/vnd.jupyter.widget-state+json": {
        "cacd1f029a974d3780b2313c234575be": {
          "model_module": "@jupyter-widgets/controls",
          "model_name": "HBoxModel",
          "model_module_version": "1.5.0",
          "state": {
            "_dom_classes": [],
            "_model_module": "@jupyter-widgets/controls",
            "_model_module_version": "1.5.0",
            "_model_name": "HBoxModel",
            "_view_count": null,
            "_view_module": "@jupyter-widgets/controls",
            "_view_module_version": "1.5.0",
            "_view_name": "HBoxView",
            "box_style": "",
            "children": [
              "IPY_MODEL_c17fd825b0e245d7b12e6bb3cee0dd7b",
              "IPY_MODEL_11fd18cd324e4debb678e07785765dd7",
              "IPY_MODEL_638ac7d6fd3f4e3fada039458c165e8b"
            ],
            "layout": "IPY_MODEL_2f5c39d4c9424a89bfdf2872601373ec"
          }
        },
        "c17fd825b0e245d7b12e6bb3cee0dd7b": {
          "model_module": "@jupyter-widgets/controls",
          "model_name": "HTMLModel",
          "model_module_version": "1.5.0",
          "state": {
            "_dom_classes": [],
            "_model_module": "@jupyter-widgets/controls",
            "_model_module_version": "1.5.0",
            "_model_name": "HTMLModel",
            "_view_count": null,
            "_view_module": "@jupyter-widgets/controls",
            "_view_module_version": "1.5.0",
            "_view_name": "HTMLView",
            "description": "",
            "description_tooltip": null,
            "layout": "IPY_MODEL_c4c5333226974cafb9d135409bf1142b",
            "placeholder": "​",
            "style": "IPY_MODEL_9d8b4c302c814fcf9867e623d05c328e",
            "value": "100%"
          }
        },
        "11fd18cd324e4debb678e07785765dd7": {
          "model_module": "@jupyter-widgets/controls",
          "model_name": "FloatProgressModel",
          "model_module_version": "1.5.0",
          "state": {
            "_dom_classes": [],
            "_model_module": "@jupyter-widgets/controls",
            "_model_module_version": "1.5.0",
            "_model_name": "FloatProgressModel",
            "_view_count": null,
            "_view_module": "@jupyter-widgets/controls",
            "_view_module_version": "1.5.0",
            "_view_name": "ProgressView",
            "bar_style": "success",
            "description": "",
            "description_tooltip": null,
            "layout": "IPY_MODEL_44cb08c7ea0f4745a839c0b60b8bb2b4",
            "max": 25,
            "min": 0,
            "orientation": "horizontal",
            "style": "IPY_MODEL_003ec1261c7447a7ac358c7830ba991d",
            "value": 25
          }
        },
        "638ac7d6fd3f4e3fada039458c165e8b": {
          "model_module": "@jupyter-widgets/controls",
          "model_name": "HTMLModel",
          "model_module_version": "1.5.0",
          "state": {
            "_dom_classes": [],
            "_model_module": "@jupyter-widgets/controls",
            "_model_module_version": "1.5.0",
            "_model_name": "HTMLModel",
            "_view_count": null,
            "_view_module": "@jupyter-widgets/controls",
            "_view_module_version": "1.5.0",
            "_view_name": "HTMLView",
            "description": "",
            "description_tooltip": null,
            "layout": "IPY_MODEL_fc7360217b7542b281cedf057697b3d8",
            "placeholder": "​",
            "style": "IPY_MODEL_be6a188e596b4abc9cd03c3ead037e95",
            "value": " 25/25 [00:12&lt;00:00,  2.14it/s, loss=-2.23]"
          }
        },
        "2f5c39d4c9424a89bfdf2872601373ec": {
          "model_module": "@jupyter-widgets/base",
          "model_name": "LayoutModel",
          "model_module_version": "1.2.0",
          "state": {
            "_model_module": "@jupyter-widgets/base",
            "_model_module_version": "1.2.0",
            "_model_name": "LayoutModel",
            "_view_count": null,
            "_view_module": "@jupyter-widgets/base",
            "_view_module_version": "1.2.0",
            "_view_name": "LayoutView",
            "align_content": null,
            "align_items": null,
            "align_self": null,
            "border": null,
            "bottom": null,
            "display": null,
            "flex": null,
            "flex_flow": null,
            "grid_area": null,
            "grid_auto_columns": null,
            "grid_auto_flow": null,
            "grid_auto_rows": null,
            "grid_column": null,
            "grid_gap": null,
            "grid_row": null,
            "grid_template_areas": null,
            "grid_template_columns": null,
            "grid_template_rows": null,
            "height": null,
            "justify_content": null,
            "justify_items": null,
            "left": null,
            "margin": null,
            "max_height": null,
            "max_width": null,
            "min_height": null,
            "min_width": null,
            "object_fit": null,
            "object_position": null,
            "order": null,
            "overflow": null,
            "overflow_x": null,
            "overflow_y": null,
            "padding": null,
            "right": null,
            "top": null,
            "visibility": null,
            "width": null
          }
        },
        "c4c5333226974cafb9d135409bf1142b": {
          "model_module": "@jupyter-widgets/base",
          "model_name": "LayoutModel",
          "model_module_version": "1.2.0",
          "state": {
            "_model_module": "@jupyter-widgets/base",
            "_model_module_version": "1.2.0",
            "_model_name": "LayoutModel",
            "_view_count": null,
            "_view_module": "@jupyter-widgets/base",
            "_view_module_version": "1.2.0",
            "_view_name": "LayoutView",
            "align_content": null,
            "align_items": null,
            "align_self": null,
            "border": null,
            "bottom": null,
            "display": null,
            "flex": null,
            "flex_flow": null,
            "grid_area": null,
            "grid_auto_columns": null,
            "grid_auto_flow": null,
            "grid_auto_rows": null,
            "grid_column": null,
            "grid_gap": null,
            "grid_row": null,
            "grid_template_areas": null,
            "grid_template_columns": null,
            "grid_template_rows": null,
            "height": null,
            "justify_content": null,
            "justify_items": null,
            "left": null,
            "margin": null,
            "max_height": null,
            "max_width": null,
            "min_height": null,
            "min_width": null,
            "object_fit": null,
            "object_position": null,
            "order": null,
            "overflow": null,
            "overflow_x": null,
            "overflow_y": null,
            "padding": null,
            "right": null,
            "top": null,
            "visibility": null,
            "width": null
          }
        },
        "9d8b4c302c814fcf9867e623d05c328e": {
          "model_module": "@jupyter-widgets/controls",
          "model_name": "DescriptionStyleModel",
          "model_module_version": "1.5.0",
          "state": {
            "_model_module": "@jupyter-widgets/controls",
            "_model_module_version": "1.5.0",
            "_model_name": "DescriptionStyleModel",
            "_view_count": null,
            "_view_module": "@jupyter-widgets/base",
            "_view_module_version": "1.2.0",
            "_view_name": "StyleView",
            "description_width": ""
          }
        },
        "44cb08c7ea0f4745a839c0b60b8bb2b4": {
          "model_module": "@jupyter-widgets/base",
          "model_name": "LayoutModel",
          "model_module_version": "1.2.0",
          "state": {
            "_model_module": "@jupyter-widgets/base",
            "_model_module_version": "1.2.0",
            "_model_name": "LayoutModel",
            "_view_count": null,
            "_view_module": "@jupyter-widgets/base",
            "_view_module_version": "1.2.0",
            "_view_name": "LayoutView",
            "align_content": null,
            "align_items": null,
            "align_self": null,
            "border": null,
            "bottom": null,
            "display": null,
            "flex": null,
            "flex_flow": null,
            "grid_area": null,
            "grid_auto_columns": null,
            "grid_auto_flow": null,
            "grid_auto_rows": null,
            "grid_column": null,
            "grid_gap": null,
            "grid_row": null,
            "grid_template_areas": null,
            "grid_template_columns": null,
            "grid_template_rows": null,
            "height": null,
            "justify_content": null,
            "justify_items": null,
            "left": null,
            "margin": null,
            "max_height": null,
            "max_width": null,
            "min_height": null,
            "min_width": null,
            "object_fit": null,
            "object_position": null,
            "order": null,
            "overflow": null,
            "overflow_x": null,
            "overflow_y": null,
            "padding": null,
            "right": null,
            "top": null,
            "visibility": null,
            "width": null
          }
        },
        "003ec1261c7447a7ac358c7830ba991d": {
          "model_module": "@jupyter-widgets/controls",
          "model_name": "ProgressStyleModel",
          "model_module_version": "1.5.0",
          "state": {
            "_model_module": "@jupyter-widgets/controls",
            "_model_module_version": "1.5.0",
            "_model_name": "ProgressStyleModel",
            "_view_count": null,
            "_view_module": "@jupyter-widgets/base",
            "_view_module_version": "1.2.0",
            "_view_name": "StyleView",
            "bar_color": null,
            "description_width": ""
          }
        },
        "fc7360217b7542b281cedf057697b3d8": {
          "model_module": "@jupyter-widgets/base",
          "model_name": "LayoutModel",
          "model_module_version": "1.2.0",
          "state": {
            "_model_module": "@jupyter-widgets/base",
            "_model_module_version": "1.2.0",
            "_model_name": "LayoutModel",
            "_view_count": null,
            "_view_module": "@jupyter-widgets/base",
            "_view_module_version": "1.2.0",
            "_view_name": "LayoutView",
            "align_content": null,
            "align_items": null,
            "align_self": null,
            "border": null,
            "bottom": null,
            "display": null,
            "flex": null,
            "flex_flow": null,
            "grid_area": null,
            "grid_auto_columns": null,
            "grid_auto_flow": null,
            "grid_auto_rows": null,
            "grid_column": null,
            "grid_gap": null,
            "grid_row": null,
            "grid_template_areas": null,
            "grid_template_columns": null,
            "grid_template_rows": null,
            "height": null,
            "justify_content": null,
            "justify_items": null,
            "left": null,
            "margin": null,
            "max_height": null,
            "max_width": null,
            "min_height": null,
            "min_width": null,
            "object_fit": null,
            "object_position": null,
            "order": null,
            "overflow": null,
            "overflow_x": null,
            "overflow_y": null,
            "padding": null,
            "right": null,
            "top": null,
            "visibility": null,
            "width": null
          }
        },
        "be6a188e596b4abc9cd03c3ead037e95": {
          "model_module": "@jupyter-widgets/controls",
          "model_name": "DescriptionStyleModel",
          "model_module_version": "1.5.0",
          "state": {
            "_model_module": "@jupyter-widgets/controls",
            "_model_module_version": "1.5.0",
            "_model_name": "DescriptionStyleModel",
            "_view_count": null,
            "_view_module": "@jupyter-widgets/base",
            "_view_module_version": "1.2.0",
            "_view_name": "StyleView",
            "description_width": ""
          }
        },
        "b0d14bca22364c11baaf8ceda6ea98c4": {
          "model_module": "@jupyter-widgets/controls",
          "model_name": "HBoxModel",
          "model_module_version": "1.5.0",
          "state": {
            "_dom_classes": [],
            "_model_module": "@jupyter-widgets/controls",
            "_model_module_version": "1.5.0",
            "_model_name": "HBoxModel",
            "_view_count": null,
            "_view_module": "@jupyter-widgets/controls",
            "_view_module_version": "1.5.0",
            "_view_name": "HBoxView",
            "box_style": "",
            "children": [
              "IPY_MODEL_8c4186ec56fb41779a92577651f8c49c",
              "IPY_MODEL_3faa6e754a33440ba9d2758e9310cafc",
              "IPY_MODEL_05adef66f64c4814a4845b8321a8f8ed"
            ],
            "layout": "IPY_MODEL_de4d64df931b4e2f945087da8fbbd8f3"
          }
        },
        "8c4186ec56fb41779a92577651f8c49c": {
          "model_module": "@jupyter-widgets/controls",
          "model_name": "HTMLModel",
          "model_module_version": "1.5.0",
          "state": {
            "_dom_classes": [],
            "_model_module": "@jupyter-widgets/controls",
            "_model_module_version": "1.5.0",
            "_model_name": "HTMLModel",
            "_view_count": null,
            "_view_module": "@jupyter-widgets/controls",
            "_view_module_version": "1.5.0",
            "_view_name": "HTMLView",
            "description": "",
            "description_tooltip": null,
            "layout": "IPY_MODEL_028ad27ba02a451fa0c79e1790188b05",
            "placeholder": "​",
            "style": "IPY_MODEL_b5917bcbc6e14467b60ecc755f69f733",
            "value": "100%"
          }
        },
        "3faa6e754a33440ba9d2758e9310cafc": {
          "model_module": "@jupyter-widgets/controls",
          "model_name": "FloatProgressModel",
          "model_module_version": "1.5.0",
          "state": {
            "_dom_classes": [],
            "_model_module": "@jupyter-widgets/controls",
            "_model_module_version": "1.5.0",
            "_model_name": "FloatProgressModel",
            "_view_count": null,
            "_view_module": "@jupyter-widgets/controls",
            "_view_module_version": "1.5.0",
            "_view_name": "ProgressView",
            "bar_style": "success",
            "description": "",
            "description_tooltip": null,
            "layout": "IPY_MODEL_a4ef9355856f4789bd6d205a3bbf5ad0",
            "max": 25,
            "min": 0,
            "orientation": "horizontal",
            "style": "IPY_MODEL_e6876a9fd872417c857184d5743450a6",
            "value": 25
          }
        },
        "05adef66f64c4814a4845b8321a8f8ed": {
          "model_module": "@jupyter-widgets/controls",
          "model_name": "HTMLModel",
          "model_module_version": "1.5.0",
          "state": {
            "_dom_classes": [],
            "_model_module": "@jupyter-widgets/controls",
            "_model_module_version": "1.5.0",
            "_model_name": "HTMLModel",
            "_view_count": null,
            "_view_module": "@jupyter-widgets/controls",
            "_view_module_version": "1.5.0",
            "_view_name": "HTMLView",
            "description": "",
            "description_tooltip": null,
            "layout": "IPY_MODEL_95587d2e65ee4309b46c9e559ab8fb76",
            "placeholder": "​",
            "style": "IPY_MODEL_aef64e2a3a6c4adf9dad7221990c3379",
            "value": " 25/25 [00:13&lt;00:00,  2.05it/s, loss=-4.71]"
          }
        },
        "de4d64df931b4e2f945087da8fbbd8f3": {
          "model_module": "@jupyter-widgets/base",
          "model_name": "LayoutModel",
          "model_module_version": "1.2.0",
          "state": {
            "_model_module": "@jupyter-widgets/base",
            "_model_module_version": "1.2.0",
            "_model_name": "LayoutModel",
            "_view_count": null,
            "_view_module": "@jupyter-widgets/base",
            "_view_module_version": "1.2.0",
            "_view_name": "LayoutView",
            "align_content": null,
            "align_items": null,
            "align_self": null,
            "border": null,
            "bottom": null,
            "display": null,
            "flex": null,
            "flex_flow": null,
            "grid_area": null,
            "grid_auto_columns": null,
            "grid_auto_flow": null,
            "grid_auto_rows": null,
            "grid_column": null,
            "grid_gap": null,
            "grid_row": null,
            "grid_template_areas": null,
            "grid_template_columns": null,
            "grid_template_rows": null,
            "height": null,
            "justify_content": null,
            "justify_items": null,
            "left": null,
            "margin": null,
            "max_height": null,
            "max_width": null,
            "min_height": null,
            "min_width": null,
            "object_fit": null,
            "object_position": null,
            "order": null,
            "overflow": null,
            "overflow_x": null,
            "overflow_y": null,
            "padding": null,
            "right": null,
            "top": null,
            "visibility": null,
            "width": null
          }
        },
        "028ad27ba02a451fa0c79e1790188b05": {
          "model_module": "@jupyter-widgets/base",
          "model_name": "LayoutModel",
          "model_module_version": "1.2.0",
          "state": {
            "_model_module": "@jupyter-widgets/base",
            "_model_module_version": "1.2.0",
            "_model_name": "LayoutModel",
            "_view_count": null,
            "_view_module": "@jupyter-widgets/base",
            "_view_module_version": "1.2.0",
            "_view_name": "LayoutView",
            "align_content": null,
            "align_items": null,
            "align_self": null,
            "border": null,
            "bottom": null,
            "display": null,
            "flex": null,
            "flex_flow": null,
            "grid_area": null,
            "grid_auto_columns": null,
            "grid_auto_flow": null,
            "grid_auto_rows": null,
            "grid_column": null,
            "grid_gap": null,
            "grid_row": null,
            "grid_template_areas": null,
            "grid_template_columns": null,
            "grid_template_rows": null,
            "height": null,
            "justify_content": null,
            "justify_items": null,
            "left": null,
            "margin": null,
            "max_height": null,
            "max_width": null,
            "min_height": null,
            "min_width": null,
            "object_fit": null,
            "object_position": null,
            "order": null,
            "overflow": null,
            "overflow_x": null,
            "overflow_y": null,
            "padding": null,
            "right": null,
            "top": null,
            "visibility": null,
            "width": null
          }
        },
        "b5917bcbc6e14467b60ecc755f69f733": {
          "model_module": "@jupyter-widgets/controls",
          "model_name": "DescriptionStyleModel",
          "model_module_version": "1.5.0",
          "state": {
            "_model_module": "@jupyter-widgets/controls",
            "_model_module_version": "1.5.0",
            "_model_name": "DescriptionStyleModel",
            "_view_count": null,
            "_view_module": "@jupyter-widgets/base",
            "_view_module_version": "1.2.0",
            "_view_name": "StyleView",
            "description_width": ""
          }
        },
        "a4ef9355856f4789bd6d205a3bbf5ad0": {
          "model_module": "@jupyter-widgets/base",
          "model_name": "LayoutModel",
          "model_module_version": "1.2.0",
          "state": {
            "_model_module": "@jupyter-widgets/base",
            "_model_module_version": "1.2.0",
            "_model_name": "LayoutModel",
            "_view_count": null,
            "_view_module": "@jupyter-widgets/base",
            "_view_module_version": "1.2.0",
            "_view_name": "LayoutView",
            "align_content": null,
            "align_items": null,
            "align_self": null,
            "border": null,
            "bottom": null,
            "display": null,
            "flex": null,
            "flex_flow": null,
            "grid_area": null,
            "grid_auto_columns": null,
            "grid_auto_flow": null,
            "grid_auto_rows": null,
            "grid_column": null,
            "grid_gap": null,
            "grid_row": null,
            "grid_template_areas": null,
            "grid_template_columns": null,
            "grid_template_rows": null,
            "height": null,
            "justify_content": null,
            "justify_items": null,
            "left": null,
            "margin": null,
            "max_height": null,
            "max_width": null,
            "min_height": null,
            "min_width": null,
            "object_fit": null,
            "object_position": null,
            "order": null,
            "overflow": null,
            "overflow_x": null,
            "overflow_y": null,
            "padding": null,
            "right": null,
            "top": null,
            "visibility": null,
            "width": null
          }
        },
        "e6876a9fd872417c857184d5743450a6": {
          "model_module": "@jupyter-widgets/controls",
          "model_name": "ProgressStyleModel",
          "model_module_version": "1.5.0",
          "state": {
            "_model_module": "@jupyter-widgets/controls",
            "_model_module_version": "1.5.0",
            "_model_name": "ProgressStyleModel",
            "_view_count": null,
            "_view_module": "@jupyter-widgets/base",
            "_view_module_version": "1.2.0",
            "_view_name": "StyleView",
            "bar_color": null,
            "description_width": ""
          }
        },
        "95587d2e65ee4309b46c9e559ab8fb76": {
          "model_module": "@jupyter-widgets/base",
          "model_name": "LayoutModel",
          "model_module_version": "1.2.0",
          "state": {
            "_model_module": "@jupyter-widgets/base",
            "_model_module_version": "1.2.0",
            "_model_name": "LayoutModel",
            "_view_count": null,
            "_view_module": "@jupyter-widgets/base",
            "_view_module_version": "1.2.0",
            "_view_name": "LayoutView",
            "align_content": null,
            "align_items": null,
            "align_self": null,
            "border": null,
            "bottom": null,
            "display": null,
            "flex": null,
            "flex_flow": null,
            "grid_area": null,
            "grid_auto_columns": null,
            "grid_auto_flow": null,
            "grid_auto_rows": null,
            "grid_column": null,
            "grid_gap": null,
            "grid_row": null,
            "grid_template_areas": null,
            "grid_template_columns": null,
            "grid_template_rows": null,
            "height": null,
            "justify_content": null,
            "justify_items": null,
            "left": null,
            "margin": null,
            "max_height": null,
            "max_width": null,
            "min_height": null,
            "min_width": null,
            "object_fit": null,
            "object_position": null,
            "order": null,
            "overflow": null,
            "overflow_x": null,
            "overflow_y": null,
            "padding": null,
            "right": null,
            "top": null,
            "visibility": null,
            "width": null
          }
        },
        "aef64e2a3a6c4adf9dad7221990c3379": {
          "model_module": "@jupyter-widgets/controls",
          "model_name": "DescriptionStyleModel",
          "model_module_version": "1.5.0",
          "state": {
            "_model_module": "@jupyter-widgets/controls",
            "_model_module_version": "1.5.0",
            "_model_name": "DescriptionStyleModel",
            "_view_count": null,
            "_view_module": "@jupyter-widgets/base",
            "_view_module_version": "1.2.0",
            "_view_name": "StyleView",
            "description_width": ""
          }
        },
        "b51f2634b77b4435b4956a5875a9f35d": {
          "model_module": "@jupyter-widgets/controls",
          "model_name": "HBoxModel",
          "model_module_version": "1.5.0",
          "state": {
            "_dom_classes": [],
            "_model_module": "@jupyter-widgets/controls",
            "_model_module_version": "1.5.0",
            "_model_name": "HBoxModel",
            "_view_count": null,
            "_view_module": "@jupyter-widgets/controls",
            "_view_module_version": "1.5.0",
            "_view_name": "HBoxView",
            "box_style": "",
            "children": [
              "IPY_MODEL_b3e2406e15df41219b8c10d232815e9d",
              "IPY_MODEL_64061d28d5c34c59854daa7a3f74345d",
              "IPY_MODEL_f738f648049c4e9fb912a67936b14a6f"
            ],
            "layout": "IPY_MODEL_5deac3c8188a441a81ad8bbbbe78a70e"
          }
        },
        "b3e2406e15df41219b8c10d232815e9d": {
          "model_module": "@jupyter-widgets/controls",
          "model_name": "HTMLModel",
          "model_module_version": "1.5.0",
          "state": {
            "_dom_classes": [],
            "_model_module": "@jupyter-widgets/controls",
            "_model_module_version": "1.5.0",
            "_model_name": "HTMLModel",
            "_view_count": null,
            "_view_module": "@jupyter-widgets/controls",
            "_view_module_version": "1.5.0",
            "_view_name": "HTMLView",
            "description": "",
            "description_tooltip": null,
            "layout": "IPY_MODEL_308ffed28ba4446e8fa4fa69b44abc42",
            "placeholder": "​",
            "style": "IPY_MODEL_a5419bfbfd0b47b1b70493582befccc6",
            "value": "100%"
          }
        },
        "64061d28d5c34c59854daa7a3f74345d": {
          "model_module": "@jupyter-widgets/controls",
          "model_name": "FloatProgressModel",
          "model_module_version": "1.5.0",
          "state": {
            "_dom_classes": [],
            "_model_module": "@jupyter-widgets/controls",
            "_model_module_version": "1.5.0",
            "_model_name": "FloatProgressModel",
            "_view_count": null,
            "_view_module": "@jupyter-widgets/controls",
            "_view_module_version": "1.5.0",
            "_view_name": "ProgressView",
            "bar_style": "success",
            "description": "",
            "description_tooltip": null,
            "layout": "IPY_MODEL_5e00830fdcee4307b980d3e9484bfc7b",
            "max": 25,
            "min": 0,
            "orientation": "horizontal",
            "style": "IPY_MODEL_138cff68db704b82a846503278cd4ca2",
            "value": 25
          }
        },
        "f738f648049c4e9fb912a67936b14a6f": {
          "model_module": "@jupyter-widgets/controls",
          "model_name": "HTMLModel",
          "model_module_version": "1.5.0",
          "state": {
            "_dom_classes": [],
            "_model_module": "@jupyter-widgets/controls",
            "_model_module_version": "1.5.0",
            "_model_name": "HTMLModel",
            "_view_count": null,
            "_view_module": "@jupyter-widgets/controls",
            "_view_module_version": "1.5.0",
            "_view_name": "HTMLView",
            "description": "",
            "description_tooltip": null,
            "layout": "IPY_MODEL_6f72b0a33c3c4a8f9d585a76728e4c9d",
            "placeholder": "​",
            "style": "IPY_MODEL_85b8476bf3504362b2632b0970aed3f3",
            "value": " 25/25 [00:13&lt;00:00,  2.11it/s, loss=-7.36]"
          }
        },
        "5deac3c8188a441a81ad8bbbbe78a70e": {
          "model_module": "@jupyter-widgets/base",
          "model_name": "LayoutModel",
          "model_module_version": "1.2.0",
          "state": {
            "_model_module": "@jupyter-widgets/base",
            "_model_module_version": "1.2.0",
            "_model_name": "LayoutModel",
            "_view_count": null,
            "_view_module": "@jupyter-widgets/base",
            "_view_module_version": "1.2.0",
            "_view_name": "LayoutView",
            "align_content": null,
            "align_items": null,
            "align_self": null,
            "border": null,
            "bottom": null,
            "display": null,
            "flex": null,
            "flex_flow": null,
            "grid_area": null,
            "grid_auto_columns": null,
            "grid_auto_flow": null,
            "grid_auto_rows": null,
            "grid_column": null,
            "grid_gap": null,
            "grid_row": null,
            "grid_template_areas": null,
            "grid_template_columns": null,
            "grid_template_rows": null,
            "height": null,
            "justify_content": null,
            "justify_items": null,
            "left": null,
            "margin": null,
            "max_height": null,
            "max_width": null,
            "min_height": null,
            "min_width": null,
            "object_fit": null,
            "object_position": null,
            "order": null,
            "overflow": null,
            "overflow_x": null,
            "overflow_y": null,
            "padding": null,
            "right": null,
            "top": null,
            "visibility": null,
            "width": null
          }
        },
        "308ffed28ba4446e8fa4fa69b44abc42": {
          "model_module": "@jupyter-widgets/base",
          "model_name": "LayoutModel",
          "model_module_version": "1.2.0",
          "state": {
            "_model_module": "@jupyter-widgets/base",
            "_model_module_version": "1.2.0",
            "_model_name": "LayoutModel",
            "_view_count": null,
            "_view_module": "@jupyter-widgets/base",
            "_view_module_version": "1.2.0",
            "_view_name": "LayoutView",
            "align_content": null,
            "align_items": null,
            "align_self": null,
            "border": null,
            "bottom": null,
            "display": null,
            "flex": null,
            "flex_flow": null,
            "grid_area": null,
            "grid_auto_columns": null,
            "grid_auto_flow": null,
            "grid_auto_rows": null,
            "grid_column": null,
            "grid_gap": null,
            "grid_row": null,
            "grid_template_areas": null,
            "grid_template_columns": null,
            "grid_template_rows": null,
            "height": null,
            "justify_content": null,
            "justify_items": null,
            "left": null,
            "margin": null,
            "max_height": null,
            "max_width": null,
            "min_height": null,
            "min_width": null,
            "object_fit": null,
            "object_position": null,
            "order": null,
            "overflow": null,
            "overflow_x": null,
            "overflow_y": null,
            "padding": null,
            "right": null,
            "top": null,
            "visibility": null,
            "width": null
          }
        },
        "a5419bfbfd0b47b1b70493582befccc6": {
          "model_module": "@jupyter-widgets/controls",
          "model_name": "DescriptionStyleModel",
          "model_module_version": "1.5.0",
          "state": {
            "_model_module": "@jupyter-widgets/controls",
            "_model_module_version": "1.5.0",
            "_model_name": "DescriptionStyleModel",
            "_view_count": null,
            "_view_module": "@jupyter-widgets/base",
            "_view_module_version": "1.2.0",
            "_view_name": "StyleView",
            "description_width": ""
          }
        },
        "5e00830fdcee4307b980d3e9484bfc7b": {
          "model_module": "@jupyter-widgets/base",
          "model_name": "LayoutModel",
          "model_module_version": "1.2.0",
          "state": {
            "_model_module": "@jupyter-widgets/base",
            "_model_module_version": "1.2.0",
            "_model_name": "LayoutModel",
            "_view_count": null,
            "_view_module": "@jupyter-widgets/base",
            "_view_module_version": "1.2.0",
            "_view_name": "LayoutView",
            "align_content": null,
            "align_items": null,
            "align_self": null,
            "border": null,
            "bottom": null,
            "display": null,
            "flex": null,
            "flex_flow": null,
            "grid_area": null,
            "grid_auto_columns": null,
            "grid_auto_flow": null,
            "grid_auto_rows": null,
            "grid_column": null,
            "grid_gap": null,
            "grid_row": null,
            "grid_template_areas": null,
            "grid_template_columns": null,
            "grid_template_rows": null,
            "height": null,
            "justify_content": null,
            "justify_items": null,
            "left": null,
            "margin": null,
            "max_height": null,
            "max_width": null,
            "min_height": null,
            "min_width": null,
            "object_fit": null,
            "object_position": null,
            "order": null,
            "overflow": null,
            "overflow_x": null,
            "overflow_y": null,
            "padding": null,
            "right": null,
            "top": null,
            "visibility": null,
            "width": null
          }
        },
        "138cff68db704b82a846503278cd4ca2": {
          "model_module": "@jupyter-widgets/controls",
          "model_name": "ProgressStyleModel",
          "model_module_version": "1.5.0",
          "state": {
            "_model_module": "@jupyter-widgets/controls",
            "_model_module_version": "1.5.0",
            "_model_name": "ProgressStyleModel",
            "_view_count": null,
            "_view_module": "@jupyter-widgets/base",
            "_view_module_version": "1.2.0",
            "_view_name": "StyleView",
            "bar_color": null,
            "description_width": ""
          }
        },
        "6f72b0a33c3c4a8f9d585a76728e4c9d": {
          "model_module": "@jupyter-widgets/base",
          "model_name": "LayoutModel",
          "model_module_version": "1.2.0",
          "state": {
            "_model_module": "@jupyter-widgets/base",
            "_model_module_version": "1.2.0",
            "_model_name": "LayoutModel",
            "_view_count": null,
            "_view_module": "@jupyter-widgets/base",
            "_view_module_version": "1.2.0",
            "_view_name": "LayoutView",
            "align_content": null,
            "align_items": null,
            "align_self": null,
            "border": null,
            "bottom": null,
            "display": null,
            "flex": null,
            "flex_flow": null,
            "grid_area": null,
            "grid_auto_columns": null,
            "grid_auto_flow": null,
            "grid_auto_rows": null,
            "grid_column": null,
            "grid_gap": null,
            "grid_row": null,
            "grid_template_areas": null,
            "grid_template_columns": null,
            "grid_template_rows": null,
            "height": null,
            "justify_content": null,
            "justify_items": null,
            "left": null,
            "margin": null,
            "max_height": null,
            "max_width": null,
            "min_height": null,
            "min_width": null,
            "object_fit": null,
            "object_position": null,
            "order": null,
            "overflow": null,
            "overflow_x": null,
            "overflow_y": null,
            "padding": null,
            "right": null,
            "top": null,
            "visibility": null,
            "width": null
          }
        },
        "85b8476bf3504362b2632b0970aed3f3": {
          "model_module": "@jupyter-widgets/controls",
          "model_name": "DescriptionStyleModel",
          "model_module_version": "1.5.0",
          "state": {
            "_model_module": "@jupyter-widgets/controls",
            "_model_module_version": "1.5.0",
            "_model_name": "DescriptionStyleModel",
            "_view_count": null,
            "_view_module": "@jupyter-widgets/base",
            "_view_module_version": "1.2.0",
            "_view_name": "StyleView",
            "description_width": ""
          }
        }
      }
    },
    "accelerator": "GPU"
  },
  "cells": [
    {
      "cell_type": "markdown",
      "metadata": {
        "id": "view-in-github",
        "colab_type": "text"
      },
      "source": [
        "<a href=\"https://colab.research.google.com/github/joliveiraas/kvasir-seg/blob/main/UNET_model.ipynb\" target=\"_parent\"><img src=\"https://colab.research.google.com/assets/colab-badge.svg\" alt=\"Open In Colab\"/></a>"
      ]
    },
    {
      "cell_type": "markdown",
      "source": [
        "# 1. Data\n",
        "\n",
        "**Dataset**: *Kvasir-SEG*\n",
        "\n",
        "Kvasir-SEG é um conjunto de dados de acesso aberto de imagens de pólipos gastrointestinais e máscaras de segmentação correspondentes, anotadas manualmente por um médico e depois verificadas por um gastroenterologista experiente.\n",
        "\n",
        "Link: https://datasets.simula.no/kvasir-seg/"
      ],
      "metadata": {
        "id": "-ts6U2O9DotN"
      }
    },
    {
      "cell_type": "markdown",
      "source": [
        "### 1.1 Data upload"
      ],
      "metadata": {
        "id": "VXWtNBNs9QM2"
      }
    },
    {
      "cell_type": "code",
      "source": [
        "# Uploading data\n",
        "import requests\n",
        "import zipfile\n",
        "from pathlib import Path\n",
        "\n",
        "root = Path('root/')\n",
        "data = root / 'data'\n",
        "\n",
        "if not data.is_dir():\n",
        "  data.mkdir(parents=True, exist_ok=True)\n",
        "\n",
        "with open(root / 'data.zip', \"wb\") as f:\n",
        "  request = requests.get('https://github.com/joliveiraas/kvasir-seg/raw/main/large%20data/kvasir-seg-large.zip')\n",
        "  f.write(request.content)\n",
        "\n",
        "  with zipfile.ZipFile(root / 'data.zip', 'r') as zip_ref:\n",
        "    zip_ref.extractall(data)"
      ],
      "metadata": {
        "id": "4-FQuwfsDssX"
      },
      "execution_count": null,
      "outputs": []
    },
    {
      "cell_type": "code",
      "source": [
        "# Creating dir paths to store train and test data splits\n",
        "train_imgs_path = data / 'train_images'\n",
        "train_masks_path = data / 'train_masks'\n",
        "test_imgs_path = data / 'test_images'\n",
        "test_masks_path = data / 'test_masks'"
      ],
      "metadata": {
        "id": "cbJ0baMG8Fks"
      },
      "execution_count": null,
      "outputs": []
    },
    {
      "cell_type": "code",
      "source": [
        "# Train and test split functions\n",
        "import shutil\n",
        "\n",
        "def train_split(source, folder, size):\n",
        "\n",
        "    try:\n",
        "        if not os.path.exists(folder):\n",
        "          os.makedirs(folder)\n",
        "\n",
        "        imgs_list = os.listdir(source)\n",
        "        train_imgs_paths = imgs_list[:size]\n",
        "\n",
        "        # Images\n",
        "        for file in train_imgs_paths:\n",
        "          source_path = os.path.join(source, file)\n",
        "          folder_path = os.path.join(folder, file)\n",
        "          shutil.copy2(source_path, folder_path)\n",
        "\n",
        "        print('Copy completed successfully.')\n",
        "    except Exception as e:\n",
        "        print(f'Error')\n",
        "\n",
        "def test_split(source, folder, size):\n",
        "\n",
        "    try:\n",
        "        if not os.path.exists(folder):\n",
        "          os.makedirs(folder)\n",
        "\n",
        "        imgs_list = os.listdir(source)\n",
        "        test_imgs_paths = imgs_list[-size:]\n",
        "\n",
        "        # Images\n",
        "        for file in test_imgs_paths:\n",
        "            source_path = os.path.join(source, file)\n",
        "            folder_path = os.path.join(folder, file)\n",
        "            shutil.copy2(source_path, folder_path)\n",
        "\n",
        "        print('Copy completed successfully.')\n",
        "    except Exception as e:\n",
        "        print(f'Error')"
      ],
      "metadata": {
        "id": "Uyqo-SHn8IdE"
      },
      "execution_count": null,
      "outputs": []
    },
    {
      "cell_type": "code",
      "source": [
        "images = data / 'images'\n",
        "masks =  data / 'masks'"
      ],
      "metadata": {
        "id": "2IAypKcO8LM-"
      },
      "execution_count": null,
      "outputs": []
    },
    {
      "cell_type": "code",
      "source": [
        "train_imgs = train_split(images, train_imgs_path, 800)\n",
        "train_masks = train_split(masks, train_masks_path, 800)\n",
        "test_imgs = test_split(images, test_imgs_path, 200)\n",
        "test_masks = test_split(masks, test_masks_path, 200)"
      ],
      "metadata": {
        "id": "gJ_CLsna8NeC"
      },
      "execution_count": null,
      "outputs": []
    },
    {
      "cell_type": "code",
      "source": [
        "# Remove 'images' and 'masks' folders\n",
        "try:\n",
        "  shutil.rmtree(images)\n",
        "  print(f'The {images} folder was removed successfully.')\n",
        "except OSError as e:\n",
        "  print(f'Error: {e}')\n",
        "\n",
        "try:\n",
        "  shutil.rmtree(masks)\n",
        "  print(f'The {masks} folder was removed successfully.')\n",
        "except OSError as e:\n",
        "  print(f'Error: {e}')"
      ],
      "metadata": {
        "id": "SwOiyAGj8PlB"
      },
      "execution_count": null,
      "outputs": []
    },
    {
      "cell_type": "code",
      "source": [
        "# Walking through data (after split)\n",
        "import os\n",
        "for dirpath, dirnames, filenames in os.walk(root):\n",
        "    print(f\"There are {len(dirnames)} directories and {len(filenames)} files in '{dirpath}'\")"
      ],
      "metadata": {
        "id": "1E5JOcJc8Ryj"
      },
      "execution_count": null,
      "outputs": []
    },
    {
      "cell_type": "markdown",
      "source": [
        "### 1.2 Dataset\n",
        "> Building a class to turn data into Dataset class\n",
        "\n",
        "> Visualizing data with matplotlib"
      ],
      "metadata": {
        "id": "mwOmi-cS-FaK"
      }
    },
    {
      "cell_type": "code",
      "source": [
        "from PIL import Image\n",
        "from torch.utils.data import Dataset, DataLoader\n",
        "import numpy as np\n",
        "\n",
        "class KvasirDataset(Dataset):\n",
        "  def __init__(self, image_dir, mask_dir, transform=None):\n",
        "    self.image_dir = image_dir\n",
        "    self.mask_dir = mask_dir\n",
        "    self.transform = transform\n",
        "    self.images = os.listdir(image_dir)\n",
        "    self.masks = os.listdir(mask_dir)\n",
        "\n",
        "  def __len__(self):\n",
        "    return len(self.images)\n",
        "\n",
        "  def __getitem__(self, idx):\n",
        "    img_path = os.path.join(self.image_dir, self.images[idx])\n",
        "    mask_path = os.path.join(self.mask_dir, self.masks[idx])\n",
        "    image = np.array(Image.open(img_path).convert(\"RGB\"))\n",
        "    mask = np.array(Image.open(mask_path))\n",
        "    #mask[mask == 255.0] = 1.0 # adjusting gray scale to use sigmoid later\n",
        "\n",
        "    if self.transform is not None:\n",
        "      augmentations = self.transform(image=image, mask=mask)\n",
        "      image = augmentations[\"image\"]\n",
        "      mask = augmentations[\"mask\"]\n",
        "\n",
        "    return image, mask"
      ],
      "metadata": {
        "id": "J38o_vfCqK7v"
      },
      "execution_count": null,
      "outputs": []
    },
    {
      "cell_type": "code",
      "source": [
        "# Visualizing data\n",
        "import matplotlib.pyplot as plt\n",
        "import random\n",
        "\n",
        "datapoint = KvasirDataset(train_imgs_path, train_masks_path)\n",
        "idx = random.randint(0, 80)\n",
        "sample = datapoint.__getitem__(1)\n",
        "\n",
        "fig, ax = plt.subplots(1, 2)\n",
        "ax[0].imshow(sample[0])\n",
        "ax[0].set_title(\"Image\")\n",
        "ax[0].axis(False)\n",
        "ax[1].imshow(sample[1], cmap=\"gray\")\n",
        "ax[1].set_title(\"Mask\")\n",
        "ax[1].axis(False)\n",
        "\n",
        "print(f'Length of training data: {datapoint.__len__()}')"
      ],
      "metadata": {
        "colab": {
          "base_uri": "https://localhost:8080/",
          "height": 273
        },
        "id": "NkSjypw8yV9u",
        "outputId": "fac0c179-a303-4139-8677-8706aa9d3cb8"
      },
      "execution_count": null,
      "outputs": [
        {
          "output_type": "stream",
          "name": "stdout",
          "text": [
            "Length of training data: 800\n"
          ]
        },
        {
          "output_type": "display_data",
          "data": {
            "text/plain": [
              "<Figure size 640x480 with 2 Axes>"
            ],
            "image/png": "[encoded data removed]"
          },
          "metadata": {}
        }
      ]
    },
    {
      "cell_type": "code",
      "source": [
        "sample[0].shape"
      ],
      "metadata": {
        "colab": {
          "base_uri": "https://localhost:8080/"
        },
        "id": "E9u7h39lQOjC",
        "outputId": "9f2c1956-0a0a-442b-f3f9-e5b9bef001cc"
      },
      "execution_count": null,
      "outputs": [
        {
          "output_type": "execute_result",
          "data": {
            "text/plain": [
              "(546, 626, 3)"
            ]
          },
          "metadata": {},
          "execution_count": 118
        }
      ]
    },
    {
      "cell_type": "code",
      "source": [
        "sample[1]"
      ],
      "metadata": {
        "colab": {
          "base_uri": "https://localhost:8080/"
        },
        "id": "VHp_uHlVKpZM",
        "outputId": "74eb0f58-de0e-43a7-b523-a355d8aad986"
      },
      "execution_count": null,
      "outputs": [
        {
          "output_type": "execute_result",
          "data": {
            "text/plain": [
              "array([[0, 0, 0, ..., 0, 0, 0],\n",
              "       [0, 0, 0, ..., 0, 0, 0],\n",
              "       [0, 0, 0, ..., 0, 0, 0],\n",
              "       ...,\n",
              "       [0, 0, 0, ..., 0, 0, 0],\n",
              "       [0, 0, 0, ..., 0, 0, 0],\n",
              "       [0, 0, 0, ..., 0, 0, 0]], dtype=uint8)"
            ]
          },
          "metadata": {},
          "execution_count": 119
        }
      ]
    },
    {
      "cell_type": "markdown",
      "source": [
        "### 1.3 Data augmentation\n",
        "\n",
        "PyTorch and Albumentations for image classification: https://albumentations.ai/docs/examples/pytorch_classification/"
      ],
      "metadata": {
        "id": "doypH9V8KSRN"
      }
    },
    {
      "cell_type": "code",
      "source": [
        "import albumentations as A\n",
        "from albumentations.pytorch import ToTensorV2\n",
        "\n",
        "IMG_HEIGHT = 160\n",
        "IMG_WIDTH = 240\n",
        "\n",
        "# Train data\n",
        "train_transform = A.Compose([\n",
        "    A.Resize(height=IMG_HEIGHT, width=IMG_WIDTH),\n",
        "    #A.Rotate(limit=35, p=1.0),\n",
        "    #A.HorizontalFlip(p=0.5),\n",
        "    #A.VerticalFlip(p=0.1),\n",
        "    A.Normalize(\n",
        "        mean=[0.0, 0.0, 0.0],\n",
        "        std=[1.0, 1.0, 1.0],\n",
        "        max_pixel_value=255.0\n",
        "    ),\n",
        "    ToTensorV2()\n",
        "])\n",
        "\n",
        "# Test data\n",
        "test_transform = A.Compose([\n",
        "    A.Resize(height=IMG_HEIGHT, width=IMG_WIDTH),\n",
        "    A.Normalize(\n",
        "        mean=[0.0, 0.0, 0.0],\n",
        "        std=[1.0, 1.0, 1.0],\n",
        "        max_pixel_value=255.0\n",
        "    ),\n",
        "    ToTensorV2()\n",
        "])"
      ],
      "metadata": {
        "id": "tDE6uvIGKgcA"
      },
      "execution_count": null,
      "outputs": []
    },
    {
      "cell_type": "code",
      "source": [
        "train_ds = KvasirDataset(\n",
        "      image_dir=train_imgs_path,\n",
        "      mask_dir=train_masks_path,\n",
        "      transform=train_transform\n",
        "  )\n",
        "random_idx = random.randint(0, 800)\n",
        "img, mask = train_ds[random_idx][0], train_ds[random_idx][1]\n",
        "\n",
        "img_permute = img.permute(1, 2, 0)\n",
        "#mask_permute = mask.permute()\n",
        "\n",
        "print(f'Original size: {img.shape} -> [C, H, W]')\n",
        "print(f'Image permute: {img_permute.shape} -> [H, W, C]')\n",
        "\n",
        "fig, ax = plt.subplots(1, 2)\n",
        "ax[0].imshow(img_permute)\n",
        "ax[0].set_title(\"Image\")\n",
        "ax[0].axis(False)\n",
        "ax[1].imshow(mask, cmap=\"gray\")\n",
        "ax[1].set_title(\"Mask\")\n",
        "ax[1].axis(False)"
      ],
      "metadata": {
        "colab": {
          "base_uri": "https://localhost:8080/",
          "height": 264
        },
        "id": "4BB8bXr5r3al",
        "outputId": "cdb2528c-ca47-40e2-83b1-aced04edb7a3"
      },
      "execution_count": null,
      "outputs": [
        {
          "output_type": "stream",
          "name": "stdout",
          "text": [
            "Original size: torch.Size([3, 160, 240]) -> [C, H, W]\n",
            "Image permute: torch.Size([160, 240, 3]) -> [H, W, C]\n"
          ]
        },
        {
          "output_type": "execute_result",
          "data": {
            "text/plain": [
              "(-0.5, 239.5, 159.5, -0.5)"
            ]
          },
          "metadata": {},
          "execution_count": 121
        },
        {
          "output_type": "display_data",
          "data": {
            "text/plain": [
              "<Figure size 640x480 with 2 Axes>"
            ],
            "image/png": "[encoded data removed]"
          },
          "metadata": {}
        }
      ]
    },
    {
      "cell_type": "markdown",
      "source": [
        "### 1.4 Dataloaders"
      ],
      "metadata": {
        "id": "j_SKwNPGPHR6"
      }
    },
    {
      "cell_type": "code",
      "source": [
        "def get_loaders(\n",
        "    train_dir,\n",
        "    train_mask_dir,\n",
        "    test_dir,\n",
        "    test_mask_dir,\n",
        "    batch_size,\n",
        "    train_transform,\n",
        "    test_transform,\n",
        "    num_workers=2,\n",
        "    pin_memory=True\n",
        "):\n",
        "\n",
        "  train_ds = KvasirDataset(\n",
        "      image_dir=train_dir,\n",
        "      mask_dir=train_mask_dir,\n",
        "      transform=train_transform\n",
        "  )\n",
        "\n",
        "  train_loader = DataLoader(\n",
        "      dataset=train_ds,\n",
        "      batch_size=batch_size,\n",
        "      num_workers=num_workers,\n",
        "      pin_memory=pin_memory,\n",
        "      shuffle=True\n",
        "  )\n",
        "\n",
        "  test_ds = KvasirDataset(\n",
        "      image_dir = test_dir,\n",
        "      mask_dir = test_mask_dir,\n",
        "      transform=test_transform\n",
        "  )\n",
        "\n",
        "  test_loader=DataLoader(\n",
        "      dataset=test_ds,\n",
        "      batch_size=batch_size,\n",
        "      num_workers=num_workers,\n",
        "      pin_memory=pin_memory,\n",
        "      shuffle=False\n",
        "  )\n",
        "\n",
        "  return train_loader, test_loader"
      ],
      "metadata": {
        "id": "vJtduyHdRr76"
      },
      "execution_count": null,
      "outputs": []
    },
    {
      "cell_type": "code",
      "source": [
        "train_dataloader, test_dataloader = get_loaders(\n",
        "    train_imgs_path,\n",
        "    train_masks_path,\n",
        "    test_imgs_path,\n",
        "    test_masks_path,\n",
        "    32,\n",
        "    train_transform,\n",
        "    test_transform\n",
        ")"
      ],
      "metadata": {
        "id": "rzVZ2UBiQfqx"
      },
      "execution_count": null,
      "outputs": []
    },
    {
      "cell_type": "code",
      "source": [
        "train_dataloader, test_dataloader"
      ],
      "metadata": {
        "colab": {
          "base_uri": "https://localhost:8080/"
        },
        "id": "RLPI_Dwe__VH",
        "outputId": "0e473baa-30b0-481d-b9d8-fb6e7b692521"
      },
      "execution_count": null,
      "outputs": [
        {
          "output_type": "execute_result",
          "data": {
            "text/plain": [
              "(<torch.utils.data.dataloader.DataLoader at 0x7b760f653e80>,\n",
              " <torch.utils.data.dataloader.DataLoader at 0x7b760f651f30>)"
            ]
          },
          "metadata": {},
          "execution_count": 124
        }
      ]
    },
    {
      "cell_type": "code",
      "source": [
        "img, mask = next(iter(train_dataloader))\n",
        "\n",
        "# Batch size vai ser 1 por enquanto, mas isso pode ser mudado\n",
        "print(f'Image shape: {img.shape} -> [N, C, H, W]')\n",
        "print(f'Label shape: {mask.shape}')"
      ],
      "metadata": {
        "colab": {
          "base_uri": "https://localhost:8080/"
        },
        "id": "815_-3zpqZ8b",
        "outputId": "af9aa62f-93ac-4f27-ab77-ce327d47b40d"
      },
      "execution_count": null,
      "outputs": [
        {
          "output_type": "stream",
          "name": "stdout",
          "text": [
            "Image shape: torch.Size([32, 3, 160, 240]) -> [N, C, H, W]\n",
            "Label shape: torch.Size([32, 160, 240])\n"
          ]
        }
      ]
    },
    {
      "cell_type": "markdown",
      "source": [
        "### 2. Model\n",
        "![Group14.jpg](data:image/jpeg;base64,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)"
      ],
      "metadata": {
        "id": "9KVCrVYePVsB"
      }
    },
    {
      "cell_type": "code",
      "source": [
        "import torch\n",
        "from torch import nn\n",
        "import torchvision.transforms.functional as TF"
      ],
      "metadata": {
        "id": "UmDZQSMFXOgn"
      },
      "execution_count": null,
      "outputs": []
    },
    {
      "cell_type": "code",
      "execution_count": null,
      "metadata": {
        "id": "6zDpONhoV22I"
      },
      "outputs": [],
      "source": [
        "class DoubleConv(nn.Module):\n",
        "  def __init__(self, in_channels, out_channels):\n",
        "    super().__init__()\n",
        "    self.conv = nn.Sequential(\n",
        "        nn.Conv2d(in_channels=in_channels,\n",
        "                  out_channels=out_channels,\n",
        "                  kernel_size=3,\n",
        "                  stride=1,\n",
        "                  padding=1,\n",
        "                  bias=False),\n",
        "        nn.BatchNorm2d(out_channels),\n",
        "        nn.ReLU(),\n",
        "        nn.Conv2d(in_channels=out_channels,\n",
        "                  out_channels=out_channels,\n",
        "                  kernel_size=3,\n",
        "                  stride=1,\n",
        "                  padding=1,\n",
        "                  bias=False),\n",
        "        nn.BatchNorm2d(out_channels),\n",
        "        nn.ReLU()\n",
        "    )\n",
        "\n",
        "  def forward(self, x):\n",
        "    return self.conv(x)"
      ]
    },
    {
      "cell_type": "code",
      "source": [
        "class UNET(nn.Module):\n",
        "  def __init__(self, in_channels, out_channels, features=[64, 128, 256, 512]):\n",
        "    super().__init__()\n",
        "\n",
        "    self.downs = nn.ModuleList()\n",
        "    self.ups = nn.ModuleList()\n",
        "    self.pool = nn.MaxPool2d(kernel_size=2, stride=2)\n",
        "\n",
        "    # Downsampling layers\n",
        "    for feature in features:\n",
        "      self.downs.append(DoubleConv(in_channels, feature)) # out_channels = feature\n",
        "      in_channels = feature\n",
        "\n",
        "    # Bridge layer\n",
        "    self.bridge = DoubleConv(features[-1], features[-1]*2)\n",
        "\n",
        "    # Upsampling layers\n",
        "    for feature in reversed(features):\n",
        "      self.ups.append(\n",
        "          nn.ConvTranspose2d(feature*2, feature, kernel_size=2, stride=2) # adjust img's shape\n",
        "      )\n",
        "      self.ups.append(DoubleConv(feature*2, feature)) # apply conv block\n",
        "\n",
        "    # Final output\n",
        "    self.final_conv = nn.Conv2d(features[0], out_channels, kernel_size=1)\n",
        "\n",
        "  def forward(self, x):\n",
        "    copy = list()\n",
        "\n",
        "    # Downsampling\n",
        "    for down in self.downs:\n",
        "      x = down(x)\n",
        "      copy.append(x)\n",
        "      x = self.pool(x)\n",
        "\n",
        "    # Bridge\n",
        "    x = self.bridge(x)\n",
        "    copy = copy[::-1] # mirroring the process\n",
        "\n",
        "    # Upsampling\n",
        "    for i in range(0, len(self.ups), 2):\n",
        "      x = self.ups[i](x) # starts with ConvTransposed2d\n",
        "      connection = copy[i//2] # track related conv connection\n",
        "\n",
        "      if x.shape != connection.shape:\n",
        "        x = TF.resize(x, size=connection.shape[2:]) # only height and width\n",
        "\n",
        "      concat = torch.cat((connection, x), dim=1) # dim = 1 -> channels information\n",
        "      x = self.ups[i+1](concat)\n",
        "\n",
        "    return self.final_conv(x)"
      ],
      "metadata": {
        "id": "X5pINBBNXXle"
      },
      "execution_count": null,
      "outputs": []
    },
    {
      "cell_type": "code",
      "source": [
        "# Testing model\n",
        "\n",
        "def test():\n",
        "  x = torch.randn(3, 1, 161, 161) # N, C, H, W\n",
        "  model = UNET(in_channels=1, out_channels=1)\n",
        "  preds = model(x)\n",
        "  print(preds.shape)\n",
        "  print(x.shape)\n",
        "  assert preds.shape == x.shape\n",
        "\n",
        "test()"
      ],
      "metadata": {
        "colab": {
          "base_uri": "https://localhost:8080/"
        },
        "id": "mnuCfUqLs36P",
        "outputId": "65d3b349-7e5a-4807-a7fa-685c84a93cfe"
      },
      "execution_count": null,
      "outputs": [
        {
          "output_type": "stream",
          "name": "stdout",
          "text": [
            "torch.Size([3, 1, 161, 161])\n",
            "torch.Size([3, 1, 161, 161])\n"
          ]
        }
      ]
    },
    {
      "cell_type": "markdown",
      "source": [
        "# 3. Training\n",
        "\n"
      ],
      "metadata": {
        "id": "h5aacSCvUQhR"
      }
    },
    {
      "cell_type": "code",
      "source": [
        "from tqdm.auto import tqdm\n",
        "from timeit import default_timer as timer"
      ],
      "metadata": {
        "id": "xtQYfyrjV3VO"
      },
      "execution_count": null,
      "outputs": []
    },
    {
      "cell_type": "markdown",
      "source": [
        "### 3.1 Train function"
      ],
      "metadata": {
        "id": "507ynywIQaHQ"
      }
    },
    {
      "cell_type": "code",
      "source": [
        "def train_fn(model: torch.nn.Module,\n",
        "               train_dataloader,\n",
        "               optimizer: torch.optim.Optimizer,\n",
        "               loss_fn: torch.nn.Module,\n",
        "               device: torch.device,\n",
        "               scaler\n",
        "               ):\n",
        "  loop = tqdm(train_dataloader)\n",
        "\n",
        "  model.train()\n",
        "\n",
        "  for batch, (X, y) in enumerate(loop):\n",
        "    X = X.to(DEVICE)\n",
        "    y = y.float().unsqueeze(dim=1).to(DEVICE)\n",
        "\n",
        "    with torch.cuda.amp.autocast():\n",
        "      # 1. Forward pass\n",
        "      y_logits = model(X)\n",
        "\n",
        "      # 2. Loss\n",
        "      loss = loss_fn(y_logits, y)\n",
        "\n",
        "    # 3. Optimizer zero grad\n",
        "    optimizer.zero_grad()\n",
        "\n",
        "    # 4. Loss backward\n",
        "    scaler.scale(loss).backward()\n",
        "\n",
        "    # 5. Optimizer step\n",
        "    scaler.step(optimizer)\n",
        "\n",
        "    scaler.update()\n",
        "    loop.set_postfix(loss=loss.item())\n",
        "\n",
        "  print(f'Train loss: {loss:.4f}')"
      ],
      "metadata": {
        "id": "fbEw7J_tg2oy"
      },
      "execution_count": null,
      "outputs": []
    },
    {
      "cell_type": "markdown",
      "source": [
        "Automatic mixed precision explanation ('with torch.cuda.amp.autocast()'): https://chat.openai.com/c/d6479248-bdc6-4c91-88a2-d1ea2c9ba236"
      ],
      "metadata": {
        "id": "sshri_GFL0i3"
      }
    },
    {
      "cell_type": "markdown",
      "source": [
        "### 3.2 Defining hyperparameters and math functions"
      ],
      "metadata": {
        "id": "SSnmXWCYQjo5"
      }
    },
    {
      "cell_type": "code",
      "source": [
        "# Hyperparameters\n",
        "DEVICE = 'cuda' if torch.cuda.is_available() else 'cpu'\n",
        "BATCH_SIZE = 32\n",
        "LR = 1e-4\n",
        "EPOCHS = 3\n",
        "WORKERS = 2\n",
        "PIN_MEMORY = True\n",
        "LOAD_MODEL = False"
      ],
      "metadata": {
        "id": "tB5U6SQaQ_Xs"
      },
      "execution_count": null,
      "outputs": []
    },
    {
      "cell_type": "code",
      "source": [
        "model = UNET(in_channels=3, out_channels=1).to(DEVICE)\n",
        "loss_fn = nn.BCEWithLogitsLoss()\n",
        "optimizer = torch.optim.Adam(params=model.parameters(), lr=LR)\n",
        "scaler = torch.cuda.amp.GradScaler()"
      ],
      "metadata": {
        "id": "3uNEKYXvNPxo"
      },
      "execution_count": null,
      "outputs": []
    },
    {
      "cell_type": "markdown",
      "source": [
        "### 3.3 Utils for training and evaluation loops"
      ],
      "metadata": {
        "id": "zCqInJk1RJuM"
      }
    },
    {
      "cell_type": "code",
      "source": [
        "# Accuracy function\n",
        "def accuracy(loader, model, device=DEVICE):\n",
        "  num_correct = 0\n",
        "  num_pixels = 0\n",
        "  dice_score = 0\n",
        "\n",
        "  model.eval()\n",
        "\n",
        "  with torch.inference_mode():\n",
        "    for X, y in loader:\n",
        "      X, y = X.to(device), y.unsqueeze(dim=1).to(device)\n",
        "      logits = model(X)\n",
        "      preds = torch.sigmoid(logits)\n",
        "      preds = (preds > 0.7).float()\n",
        "      num_correct += (preds == y).sum()\n",
        "      num_pixels += torch.numel(preds)\n",
        "      dice_score += (2 * (preds * y).sum()) / (\n",
        "          (preds + y).sum() + 1e-8\n",
        "      )\n",
        "\n",
        "  print(f'Got {num_correct}/{num_pixels} correct | Acc: {num_correct/num_pixels*100:.2f}%')\n",
        "  print(f'Dice score: {dice_score/len(loader)}')"
      ],
      "metadata": {
        "id": "GYtuvSrUWuj8"
      },
      "execution_count": null,
      "outputs": []
    },
    {
      "cell_type": "code",
      "source": [
        "# Saving model functions\n",
        "def save_checkpoint(state, filename=\"salvando.pth.tar\"):\n",
        "  print('=> Saving checkpoint')\n",
        "  torch.save(state, filename)\n",
        "\n",
        "def load_checkpoint(checkpoint, model):\n",
        "  print('=> Loading checkpoint')\n",
        "  model.load_state_dict(checkpoint['state_dict'])"
      ],
      "metadata": {
        "id": "JM3PwQ463VMZ"
      },
      "execution_count": null,
      "outputs": []
    },
    {
      "cell_type": "code",
      "source": [
        "# Saving predictions images function\n",
        "preds_imgs_folder = data / 'preds_masks'\n",
        "if not preds_imgs_folder.is_dir():\n",
        "  preds_imgs_folder.mkdir()\n",
        "\n",
        "import torchvision\n",
        "def save_pred_imgs(\n",
        "    loader, model, device, folder\n",
        "):\n",
        "  model.eval()\n",
        "  for i, (X, y) in enumerate(loader):\n",
        "    X = X.to(device)\n",
        "    with torch.inference_mode():\n",
        "      preds = torch.sigmoid(model(X))\n",
        "      preds = (preds > 0.5).float()\n",
        "\n",
        "    torchvision.utils.save_image(\n",
        "        preds, f'{folder}/pred_{i}.jpg'\n",
        "    )"
      ],
      "metadata": {
        "id": "HOI1lwYD1wP_"
      },
      "execution_count": null,
      "outputs": []
    },
    {
      "cell_type": "markdown",
      "source": [
        "1. em 'preds = torch.sigmoid(model(X))' após fazer a predição, a função de ativação sigmoide será aplicada aos valores de pixel da máscara gerada;\n",
        "2. em 'preds = (preds > 0.5).float()' todos os pixels da máscara gerada com valores > 0.5 vão ser rotulados como 1 (True) e os outros como 0 (False);\n",
        "3. em 'num_correct += (preds == y).sum()' irá contar quantos pixels o modelo acertou com base na máscara verdadeira;\n",
        "4. por fim, em 'num_pixels += torch.numel(preds)' retorna o total de pixels da máscara gerada.\n",
        "\n",
        "obs: 'dice_score' é uma métrica criada para calcular acurácia em problemas de segmentação binária."
      ],
      "metadata": {
        "id": "IIutHKXHxbi3"
      }
    },
    {
      "cell_type": "code",
      "source": [
        "test = torch.arange(0, 10)\n",
        "test = (test > 3).float()\n",
        "print(test)"
      ],
      "metadata": {
        "colab": {
          "base_uri": "https://localhost:8080/"
        },
        "id": "hNaTljsAZQon",
        "outputId": "d63ce962-1731-4f3c-8005-4fcce0065193"
      },
      "execution_count": null,
      "outputs": [
        {
          "output_type": "stream",
          "name": "stdout",
          "text": [
            "tensor([0., 0., 0., 0., 1., 1., 1., 1., 1., 1.])\n"
          ]
        }
      ]
    },
    {
      "cell_type": "code",
      "source": [
        "a = torch.arange(0, 10)\n",
        "torch.numel(a)"
      ],
      "metadata": {
        "colab": {
          "base_uri": "https://localhost:8080/"
        },
        "id": "zNaURZSmw8N3",
        "outputId": "e5817567-419b-4d1e-b32d-16079dcb5e76"
      },
      "execution_count": null,
      "outputs": [
        {
          "output_type": "execute_result",
          "data": {
            "text/plain": [
              "10"
            ]
          },
          "metadata": {},
          "execution_count": 138
        }
      ]
    },
    {
      "cell_type": "markdown",
      "source": [
        "### 3.4 Training loop"
      ],
      "metadata": {
        "id": "QqH4ShciRsng"
      }
    },
    {
      "cell_type": "code",
      "source": [
        "# Training loop\n",
        "torch.cuda.manual_seed(42)\n",
        "\n",
        "for epoch in range(EPOCHS):\n",
        "  print(f'Epoch: {epoch}')\n",
        "  train_fn(model,\n",
        "           train_dataloader,\n",
        "           optimizer,\n",
        "           loss_fn,\n",
        "           DEVICE,\n",
        "           scaler)\n",
        "\n",
        "  checkpoint = {\n",
        "      'state_dict': model.state_dict(),\n",
        "      'optimizer': optimizer.state_dict()\n",
        "  }\n",
        "  save_checkpoint(checkpoint)\n",
        "\n",
        "  ### Checking accuracy\n",
        "  accuracy(test_dataloader, model, DEVICE)\n",
        "\n",
        "  ### Printing same examples to a folder\n",
        "  save_pred_imgs(test_dataloader, model, DEVICE, folder=preds_imgs_folder)"
      ],
      "metadata": {
        "id": "YIXt8jYgPhol",
        "colab": {
          "base_uri": "https://localhost:8080/",
          "height": 390,
          "referenced_widgets": [
            "cacd1f029a974d3780b2313c234575be",
            "c17fd825b0e245d7b12e6bb3cee0dd7b",
            "11fd18cd324e4debb678e07785765dd7",
            "638ac7d6fd3f4e3fada039458c165e8b",
            "2f5c39d4c9424a89bfdf2872601373ec",
            "c4c5333226974cafb9d135409bf1142b",
            "9d8b4c302c814fcf9867e623d05c328e",
            "44cb08c7ea0f4745a839c0b60b8bb2b4",
            "003ec1261c7447a7ac358c7830ba991d",
            "fc7360217b7542b281cedf057697b3d8",
            "be6a188e596b4abc9cd03c3ead037e95",
            "b0d14bca22364c11baaf8ceda6ea98c4",
            "8c4186ec56fb41779a92577651f8c49c",
            "3faa6e754a33440ba9d2758e9310cafc",
            "05adef66f64c4814a4845b8321a8f8ed",
            "de4d64df931b4e2f945087da8fbbd8f3",
            "028ad27ba02a451fa0c79e1790188b05",
            "b5917bcbc6e14467b60ecc755f69f733",
            "a4ef9355856f4789bd6d205a3bbf5ad0",
            "e6876a9fd872417c857184d5743450a6",
            "95587d2e65ee4309b46c9e559ab8fb76",
            "aef64e2a3a6c4adf9dad7221990c3379",
            "b51f2634b77b4435b4956a5875a9f35d",
            "b3e2406e15df41219b8c10d232815e9d",
            "64061d28d5c34c59854daa7a3f74345d",
            "f738f648049c4e9fb912a67936b14a6f",
            "5deac3c8188a441a81ad8bbbbe78a70e",
            "308ffed28ba4446e8fa4fa69b44abc42",
            "a5419bfbfd0b47b1b70493582befccc6",
            "5e00830fdcee4307b980d3e9484bfc7b",
            "138cff68db704b82a846503278cd4ca2",
            "6f72b0a33c3c4a8f9d585a76728e4c9d",
            "85b8476bf3504362b2632b0970aed3f3"
          ]
        },
        "outputId": "72d8b76c-31d0-4415-baac-cb4572dfe66c"
      },
      "execution_count": null,
      "outputs": [
        {
          "output_type": "stream",
          "name": "stdout",
          "text": [
            "Epoch: 0\n"
          ]
        },
        {
          "output_type": "display_data",
          "data": {
            "text/plain": [
              "  0%|          | 0/25 [00:00<?, ?it/s]"
            ],
            "application/vnd.jupyter.widget-view+json": {
              "version_major": 2,
              "version_minor": 0,
              "model_id": "cacd1f029a974d3780b2313c234575be"
            }
          },
          "metadata": {}
        },
        {
          "output_type": "stream",
          "name": "stdout",
          "text": [
            "Train loss: -2.2297\n",
            "=> Saving checkpoint\n",
            "Got 6347696/7680000 correct | Acc: 82.65%\n",
            "Dice score: 0.14402854442596436\n",
            "Epoch: 1\n"
          ]
        },
        {
          "output_type": "display_data",
          "data": {
            "text/plain": [
              "  0%|          | 0/25 [00:00<?, ?it/s]"
            ],
            "application/vnd.jupyter.widget-view+json": {
              "version_major": 2,
              "version_minor": 0,
              "model_id": "b0d14bca22364c11baaf8ceda6ea98c4"
            }
          },
          "metadata": {}
        },
        {
          "output_type": "stream",
          "name": "stdout",
          "text": [
            "Train loss: -4.7129\n",
            "=> Saving checkpoint\n",
            "Got 6109147/7680000 correct | Acc: 79.55%\n",
            "Dice score: 1.1032018661499023\n",
            "Epoch: 2\n"
          ]
        },
        {
          "output_type": "display_data",
          "data": {
            "text/plain": [
              "  0%|          | 0/25 [00:00<?, ?it/s]"
            ],
            "application/vnd.jupyter.widget-view+json": {
              "version_major": 2,
              "version_minor": 0,
              "model_id": "b51f2634b77b4435b4956a5875a9f35d"
            }
          },
          "metadata": {}
        },
        {
          "output_type": "stream",
          "name": "stdout",
          "text": [
            "Train loss: -7.3613\n",
            "=> Saving checkpoint\n",
            "Got 6084598/7680000 correct | Acc: 79.23%\n",
            "Dice score: 1.2716503143310547\n"
          ]
        }
      ]
    },
    {
      "cell_type": "markdown",
      "source": [
        " ### Saving model\n",
        "  checkpoint = {\n",
        "      'state_dict': model.state_dict(),\n",
        "      'optimizer': optimizer.state_dict()\n",
        "  }\n",
        "  save_checkpoint(checkpoint)"
      ],
      "metadata": {
        "id": "Pf0mEq8E-yAq"
      }
    },
    {
      "cell_type": "markdown",
      "source": [
        "def train_fn(model: torch.nn.Module,\n",
        "               train_dataloader,\n",
        "               optimizer: torch.optim.Optimizer,\n",
        "               loss_fn: torch.nn.Module,\n",
        "               device: torch.device,\n",
        "               scaler\n",
        "               ):\n",
        "  loop = tqdm(train_dataloader)\n",
        "\n",
        "  model.train()\n",
        "\n",
        "  for batch, (X, y) in enumerate(loop):\n",
        "    X = X.to(DEVICE)\n",
        "    y = y.float().unsqueeze(dim=1).to(DEVICE)\n",
        "\n",
        "    with torch.cuda.amp.autocast():\n",
        "      # 1. Forward pass\n",
        "      y_logits = model(X)\n",
        "\n",
        "      # 2. Loss\n",
        "      loss = loss_fn(y_logits, y)\n",
        "\n",
        "    # 3. Optimizer zero grad\n",
        "    optimizer.zero_grad()\n",
        "\n",
        "    # 4. Loss backward\n",
        "    scaler.scale(loss).backward()\n",
        "\n",
        "    # 5. Optimizer step\n",
        "    scaler.step(optimizer)\n",
        "\n",
        "    scaler.update()\n",
        "    loop.set_postfix(loss=loss.item())\n",
        "\n",
        "  print(f'Train loss: {loss:.4f}')"
      ],
      "metadata": {
        "id": "_rV_GV0rKLF9"
      }
    },
    {
      "cell_type": "markdown",
      "source": [
        "# Accuracy function\n",
        "def accuracy(loader, model, device=DEVICE):\n",
        "  num_correct = 0\n",
        "  num_pixels = 0\n",
        "  dice_score = 0\n",
        "\n",
        "  model.eval()\n",
        "\n",
        "  with torch.inference_mode():\n",
        "    for X, y in loader:\n",
        "      X, y = X.to(device), y.unsqueeze(dim=1).to(device)\n",
        "      preds = torch.sigmoid(model(X))\n",
        "      preds = (preds > 0.5).float()\n",
        "      num_correct += (preds == y).sum()\n",
        "      num_pixels += torch.numel(preds)\n",
        "      dice_score += (2 * (preds * y).sum()) / (\n",
        "          (preds + y).sum() + 1e-8\n",
        "      )\n",
        "\n",
        "  print(f'Got {num_correct}/{num_pixels} correct | Acc: {num_correct/num_pixels*100:.2f}%')\n",
        "  print(f'Dice score: {dice_score/len(loader)}')"
      ],
      "metadata": {
        "id": "Uvo0dTC9KM3k"
      }
    }
  ]
}